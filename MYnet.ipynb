{
 "cells": [
  {
   "cell_type": "code",
   "execution_count": 1,
   "metadata": {},
   "outputs": [],
   "source": [
    "import os\n",
    "from backbones.mobilenet_v1 import *\n",
    "os.environ['CUDA_VISIBLE_DEVICES'] = '0'"
   ]
  },
  {
   "cell_type": "code",
   "execution_count": 2,
   "metadata": {},
   "outputs": [],
   "source": [
    "sess = tf.Session()\n",
    "# inputs = tf.placeholder(name='inputs', shape=[16, 224, 224, 3], dtype=tf.float32)\n",
    "# inputs = tf.random_uniform((1, 224, 224, 3),dtype=tf.float32)\n",
    "inputs = tf.placeholder(shape=[1, 224, 224, 3], dtype=tf.float32, name='inputs')\n",
    "# in_array = sess.run(tf.Print(inputs,[inputs]))\n",
    "# np.save(\"input.npy\",in_array)\n",
    "# np.savetxt(\"input.txt\",in_array.reshape(224*224,3))\n",
    "with arg_scope(mobilenet_v1_arg_scope(is_training=False)):\n",
    "    nets, end_points = mobilenet_v1(inputs)\n",
    "# partial_restore_op = partial_restore(sess, tf.global_variables(),'/mnt/disk/jiabao/mobilenet_v1_1/mobilenet_v1_1.0_224.ckpt')\n",
    "# sess.run(partial_restore_op)"
   ]
  },
  {
   "cell_type": "code",
   "execution_count": 3,
   "metadata": {},
   "outputs": [
    {
     "name": "stdout",
     "output_type": "stream",
     "text": [
      "INFO:tensorflow:Restoring parameters from /mnt/disk/jiabao/mobilenet_v1_1/mobilenet_v1_1.0_224.ckpt\n",
      "(0.06944599, 4.3804827)\n"
     ]
    }
   ],
   "source": [
    "# out_array = sess.run(nets, feed_dict={inputs: np.load('input.npy')})\n",
    "# print(np.mean(out_array), np.var(out_array))\n",
    "# np.savetxt(\"output_1.txt\",out_array)\n",
    "\n",
    "# print('='*8)\n",
    "# sess.run(partial_restore_op)\n",
    "# print('Recovering From Pretrained Model ')\n",
    "sess.run(tf.global_variables_initializer())\n",
    "saver = tf.train.Saver()\n",
    "saver.restore(sess=sess, save_path='/mnt/disk/jiabao/mobilenet_v1_1/mobilenet_v1_1.0_224.ckpt')\n",
    "# sess.run(nets)\n",
    "# print(nets)\n",
    "out_array = sess.run(nets, feed_dict={inputs: np.load('input.npy')})\n",
    "print(np.mean(out_array), np.var(out_array))\n",
    "np.savetxt(\"output_2.txt\",out_array)"
   ]
  },
  {
   "cell_type": "code",
   "execution_count": 9,
   "metadata": {},
   "outputs": [
    {
     "data": {
      "text/plain": [
       "[<tf.Variable 'MobilenetV1/Conv2d_0/weights:0' shape=(3, 3, 3, 32) dtype=float32_ref>,\n",
       " <tf.Variable 'MobilenetV1/Conv2d_0/BatchNorm/moving_mean:0' shape=(32,) dtype=float32_ref>,\n",
       " <tf.Variable 'MobilenetV1/Conv2d_0/BatchNorm/moving_variance:0' shape=(32,) dtype=float32_ref>,\n",
       " <tf.Variable 'MobilenetV1/Conv2d_0/BatchNorm/beta:0' shape=(32,) dtype=float32_ref>,\n",
       " <tf.Variable 'MobilenetV1/Conv2d_0/BatchNorm/gamma:0' shape=(32,) dtype=float32_ref>,\n",
       " <tf.Variable 'MobilenetV1/Conv2d_1_depthwise/depthwise_weights:0' shape=(3, 3, 32, 1) dtype=float32_ref>,\n",
       " <tf.Variable 'MobilenetV1/Conv2d_1_depthwise/BatchNorm/moving_mean:0' shape=(32,) dtype=float32_ref>,\n",
       " <tf.Variable 'MobilenetV1/Conv2d_1_depthwise/BatchNorm/moving_variance:0' shape=(32,) dtype=float32_ref>,\n",
       " <tf.Variable 'MobilenetV1/Conv2d_1_depthwise/BatchNorm/beta:0' shape=(32,) dtype=float32_ref>,\n",
       " <tf.Variable 'MobilenetV1/Conv2d_1_depthwise/BatchNorm/gamma:0' shape=(32,) dtype=float32_ref>,\n",
       " <tf.Variable 'MobilenetV1/Conv2d_1_pointwise/weights:0' shape=(1, 1, 32, 64) dtype=float32_ref>,\n",
       " <tf.Variable 'MobilenetV1/Conv2d_1_pointwise/BatchNorm/moving_mean:0' shape=(64,) dtype=float32_ref>,\n",
       " <tf.Variable 'MobilenetV1/Conv2d_1_pointwise/BatchNorm/moving_variance:0' shape=(64,) dtype=float32_ref>,\n",
       " <tf.Variable 'MobilenetV1/Conv2d_1_pointwise/BatchNorm/beta:0' shape=(64,) dtype=float32_ref>,\n",
       " <tf.Variable 'MobilenetV1/Conv2d_1_pointwise/BatchNorm/gamma:0' shape=(64,) dtype=float32_ref>,\n",
       " <tf.Variable 'MobilenetV1/Conv2d_2_depthwise/depthwise_weights:0' shape=(3, 3, 64, 1) dtype=float32_ref>,\n",
       " <tf.Variable 'MobilenetV1/Conv2d_2_depthwise/BatchNorm/moving_mean:0' shape=(64,) dtype=float32_ref>,\n",
       " <tf.Variable 'MobilenetV1/Conv2d_2_depthwise/BatchNorm/moving_variance:0' shape=(64,) dtype=float32_ref>,\n",
       " <tf.Variable 'MobilenetV1/Conv2d_2_depthwise/BatchNorm/beta:0' shape=(64,) dtype=float32_ref>,\n",
       " <tf.Variable 'MobilenetV1/Conv2d_2_depthwise/BatchNorm/gamma:0' shape=(64,) dtype=float32_ref>,\n",
       " <tf.Variable 'MobilenetV1/Conv2d_2_pointwise/weights:0' shape=(1, 1, 64, 128) dtype=float32_ref>,\n",
       " <tf.Variable 'MobilenetV1/Conv2d_2_pointwise/BatchNorm/moving_mean:0' shape=(128,) dtype=float32_ref>,\n",
       " <tf.Variable 'MobilenetV1/Conv2d_2_pointwise/BatchNorm/moving_variance:0' shape=(128,) dtype=float32_ref>,\n",
       " <tf.Variable 'MobilenetV1/Conv2d_2_pointwise/BatchNorm/beta:0' shape=(128,) dtype=float32_ref>,\n",
       " <tf.Variable 'MobilenetV1/Conv2d_2_pointwise/BatchNorm/gamma:0' shape=(128,) dtype=float32_ref>,\n",
       " <tf.Variable 'MobilenetV1/Conv2d_3_depthwise/depthwise_weights:0' shape=(3, 3, 128, 1) dtype=float32_ref>,\n",
       " <tf.Variable 'MobilenetV1/Conv2d_3_depthwise/BatchNorm/moving_mean:0' shape=(128,) dtype=float32_ref>,\n",
       " <tf.Variable 'MobilenetV1/Conv2d_3_depthwise/BatchNorm/moving_variance:0' shape=(128,) dtype=float32_ref>,\n",
       " <tf.Variable 'MobilenetV1/Conv2d_3_depthwise/BatchNorm/beta:0' shape=(128,) dtype=float32_ref>,\n",
       " <tf.Variable 'MobilenetV1/Conv2d_3_depthwise/BatchNorm/gamma:0' shape=(128,) dtype=float32_ref>,\n",
       " <tf.Variable 'MobilenetV1/Conv2d_3_pointwise/weights:0' shape=(1, 1, 128, 128) dtype=float32_ref>,\n",
       " <tf.Variable 'MobilenetV1/Conv2d_3_pointwise/BatchNorm/moving_mean:0' shape=(128,) dtype=float32_ref>,\n",
       " <tf.Variable 'MobilenetV1/Conv2d_3_pointwise/BatchNorm/moving_variance:0' shape=(128,) dtype=float32_ref>,\n",
       " <tf.Variable 'MobilenetV1/Conv2d_3_pointwise/BatchNorm/beta:0' shape=(128,) dtype=float32_ref>,\n",
       " <tf.Variable 'MobilenetV1/Conv2d_3_pointwise/BatchNorm/gamma:0' shape=(128,) dtype=float32_ref>,\n",
       " <tf.Variable 'MobilenetV1/Conv2d_4_depthwise/depthwise_weights:0' shape=(3, 3, 128, 1) dtype=float32_ref>,\n",
       " <tf.Variable 'MobilenetV1/Conv2d_4_depthwise/BatchNorm/moving_mean:0' shape=(128,) dtype=float32_ref>,\n",
       " <tf.Variable 'MobilenetV1/Conv2d_4_depthwise/BatchNorm/moving_variance:0' shape=(128,) dtype=float32_ref>,\n",
       " <tf.Variable 'MobilenetV1/Conv2d_4_depthwise/BatchNorm/beta:0' shape=(128,) dtype=float32_ref>,\n",
       " <tf.Variable 'MobilenetV1/Conv2d_4_depthwise/BatchNorm/gamma:0' shape=(128,) dtype=float32_ref>,\n",
       " <tf.Variable 'MobilenetV1/Conv2d_4_pointwise/weights:0' shape=(1, 1, 128, 256) dtype=float32_ref>,\n",
       " <tf.Variable 'MobilenetV1/Conv2d_4_pointwise/BatchNorm/moving_mean:0' shape=(256,) dtype=float32_ref>,\n",
       " <tf.Variable 'MobilenetV1/Conv2d_4_pointwise/BatchNorm/moving_variance:0' shape=(256,) dtype=float32_ref>,\n",
       " <tf.Variable 'MobilenetV1/Conv2d_4_pointwise/BatchNorm/beta:0' shape=(256,) dtype=float32_ref>,\n",
       " <tf.Variable 'MobilenetV1/Conv2d_4_pointwise/BatchNorm/gamma:0' shape=(256,) dtype=float32_ref>,\n",
       " <tf.Variable 'MobilenetV1/Conv2d_5_depthwise/depthwise_weights:0' shape=(3, 3, 256, 1) dtype=float32_ref>,\n",
       " <tf.Variable 'MobilenetV1/Conv2d_5_depthwise/BatchNorm/moving_mean:0' shape=(256,) dtype=float32_ref>,\n",
       " <tf.Variable 'MobilenetV1/Conv2d_5_depthwise/BatchNorm/moving_variance:0' shape=(256,) dtype=float32_ref>,\n",
       " <tf.Variable 'MobilenetV1/Conv2d_5_depthwise/BatchNorm/beta:0' shape=(256,) dtype=float32_ref>,\n",
       " <tf.Variable 'MobilenetV1/Conv2d_5_depthwise/BatchNorm/gamma:0' shape=(256,) dtype=float32_ref>,\n",
       " <tf.Variable 'MobilenetV1/Conv2d_5_pointwise/weights:0' shape=(1, 1, 256, 256) dtype=float32_ref>,\n",
       " <tf.Variable 'MobilenetV1/Conv2d_5_pointwise/BatchNorm/moving_mean:0' shape=(256,) dtype=float32_ref>,\n",
       " <tf.Variable 'MobilenetV1/Conv2d_5_pointwise/BatchNorm/moving_variance:0' shape=(256,) dtype=float32_ref>,\n",
       " <tf.Variable 'MobilenetV1/Conv2d_5_pointwise/BatchNorm/beta:0' shape=(256,) dtype=float32_ref>,\n",
       " <tf.Variable 'MobilenetV1/Conv2d_5_pointwise/BatchNorm/gamma:0' shape=(256,) dtype=float32_ref>,\n",
       " <tf.Variable 'MobilenetV1/Conv2d_6_depthwise/depthwise_weights:0' shape=(3, 3, 256, 1) dtype=float32_ref>,\n",
       " <tf.Variable 'MobilenetV1/Conv2d_6_depthwise/BatchNorm/moving_mean:0' shape=(256,) dtype=float32_ref>,\n",
       " <tf.Variable 'MobilenetV1/Conv2d_6_depthwise/BatchNorm/moving_variance:0' shape=(256,) dtype=float32_ref>,\n",
       " <tf.Variable 'MobilenetV1/Conv2d_6_depthwise/BatchNorm/beta:0' shape=(256,) dtype=float32_ref>,\n",
       " <tf.Variable 'MobilenetV1/Conv2d_6_depthwise/BatchNorm/gamma:0' shape=(256,) dtype=float32_ref>,\n",
       " <tf.Variable 'MobilenetV1/Conv2d_6_pointwise/weights:0' shape=(1, 1, 256, 512) dtype=float32_ref>,\n",
       " <tf.Variable 'MobilenetV1/Conv2d_6_pointwise/BatchNorm/moving_mean:0' shape=(512,) dtype=float32_ref>,\n",
       " <tf.Variable 'MobilenetV1/Conv2d_6_pointwise/BatchNorm/moving_variance:0' shape=(512,) dtype=float32_ref>,\n",
       " <tf.Variable 'MobilenetV1/Conv2d_6_pointwise/BatchNorm/beta:0' shape=(512,) dtype=float32_ref>,\n",
       " <tf.Variable 'MobilenetV1/Conv2d_6_pointwise/BatchNorm/gamma:0' shape=(512,) dtype=float32_ref>,\n",
       " <tf.Variable 'MobilenetV1/Conv2d_7_depthwise/depthwise_weights:0' shape=(3, 3, 512, 1) dtype=float32_ref>,\n",
       " <tf.Variable 'MobilenetV1/Conv2d_7_depthwise/BatchNorm/moving_mean:0' shape=(512,) dtype=float32_ref>,\n",
       " <tf.Variable 'MobilenetV1/Conv2d_7_depthwise/BatchNorm/moving_variance:0' shape=(512,) dtype=float32_ref>,\n",
       " <tf.Variable 'MobilenetV1/Conv2d_7_depthwise/BatchNorm/beta:0' shape=(512,) dtype=float32_ref>,\n",
       " <tf.Variable 'MobilenetV1/Conv2d_7_depthwise/BatchNorm/gamma:0' shape=(512,) dtype=float32_ref>,\n",
       " <tf.Variable 'MobilenetV1/Conv2d_7_pointwise/weights:0' shape=(1, 1, 512, 512) dtype=float32_ref>,\n",
       " <tf.Variable 'MobilenetV1/Conv2d_7_pointwise/BatchNorm/moving_mean:0' shape=(512,) dtype=float32_ref>,\n",
       " <tf.Variable 'MobilenetV1/Conv2d_7_pointwise/BatchNorm/moving_variance:0' shape=(512,) dtype=float32_ref>,\n",
       " <tf.Variable 'MobilenetV1/Conv2d_7_pointwise/BatchNorm/beta:0' shape=(512,) dtype=float32_ref>,\n",
       " <tf.Variable 'MobilenetV1/Conv2d_7_pointwise/BatchNorm/gamma:0' shape=(512,) dtype=float32_ref>,\n",
       " <tf.Variable 'MobilenetV1/Conv2d_8_depthwise/depthwise_weights:0' shape=(3, 3, 512, 1) dtype=float32_ref>,\n",
       " <tf.Variable 'MobilenetV1/Conv2d_8_depthwise/BatchNorm/moving_mean:0' shape=(512,) dtype=float32_ref>,\n",
       " <tf.Variable 'MobilenetV1/Conv2d_8_depthwise/BatchNorm/moving_variance:0' shape=(512,) dtype=float32_ref>,\n",
       " <tf.Variable 'MobilenetV1/Conv2d_8_depthwise/BatchNorm/beta:0' shape=(512,) dtype=float32_ref>,\n",
       " <tf.Variable 'MobilenetV1/Conv2d_8_depthwise/BatchNorm/gamma:0' shape=(512,) dtype=float32_ref>,\n",
       " <tf.Variable 'MobilenetV1/Conv2d_8_pointwise/weights:0' shape=(1, 1, 512, 512) dtype=float32_ref>,\n",
       " <tf.Variable 'MobilenetV1/Conv2d_8_pointwise/BatchNorm/moving_mean:0' shape=(512,) dtype=float32_ref>,\n",
       " <tf.Variable 'MobilenetV1/Conv2d_8_pointwise/BatchNorm/moving_variance:0' shape=(512,) dtype=float32_ref>,\n",
       " <tf.Variable 'MobilenetV1/Conv2d_8_pointwise/BatchNorm/beta:0' shape=(512,) dtype=float32_ref>,\n",
       " <tf.Variable 'MobilenetV1/Conv2d_8_pointwise/BatchNorm/gamma:0' shape=(512,) dtype=float32_ref>,\n",
       " <tf.Variable 'MobilenetV1/Conv2d_9_depthwise/depthwise_weights:0' shape=(3, 3, 512, 1) dtype=float32_ref>,\n",
       " <tf.Variable 'MobilenetV1/Conv2d_9_depthwise/BatchNorm/moving_mean:0' shape=(512,) dtype=float32_ref>,\n",
       " <tf.Variable 'MobilenetV1/Conv2d_9_depthwise/BatchNorm/moving_variance:0' shape=(512,) dtype=float32_ref>,\n",
       " <tf.Variable 'MobilenetV1/Conv2d_9_depthwise/BatchNorm/beta:0' shape=(512,) dtype=float32_ref>,\n",
       " <tf.Variable 'MobilenetV1/Conv2d_9_depthwise/BatchNorm/gamma:0' shape=(512,) dtype=float32_ref>,\n",
       " <tf.Variable 'MobilenetV1/Conv2d_9_pointwise/weights:0' shape=(1, 1, 512, 512) dtype=float32_ref>,\n",
       " <tf.Variable 'MobilenetV1/Conv2d_9_pointwise/BatchNorm/moving_mean:0' shape=(512,) dtype=float32_ref>,\n",
       " <tf.Variable 'MobilenetV1/Conv2d_9_pointwise/BatchNorm/moving_variance:0' shape=(512,) dtype=float32_ref>,\n",
       " <tf.Variable 'MobilenetV1/Conv2d_9_pointwise/BatchNorm/beta:0' shape=(512,) dtype=float32_ref>,\n",
       " <tf.Variable 'MobilenetV1/Conv2d_9_pointwise/BatchNorm/gamma:0' shape=(512,) dtype=float32_ref>,\n",
       " <tf.Variable 'MobilenetV1/Conv2d_10_depthwise/depthwise_weights:0' shape=(3, 3, 512, 1) dtype=float32_ref>,\n",
       " <tf.Variable 'MobilenetV1/Conv2d_10_depthwise/BatchNorm/moving_mean:0' shape=(512,) dtype=float32_ref>,\n",
       " <tf.Variable 'MobilenetV1/Conv2d_10_depthwise/BatchNorm/moving_variance:0' shape=(512,) dtype=float32_ref>,\n",
       " <tf.Variable 'MobilenetV1/Conv2d_10_depthwise/BatchNorm/beta:0' shape=(512,) dtype=float32_ref>,\n",
       " <tf.Variable 'MobilenetV1/Conv2d_10_depthwise/BatchNorm/gamma:0' shape=(512,) dtype=float32_ref>,\n",
       " <tf.Variable 'MobilenetV1/Conv2d_10_pointwise/weights:0' shape=(1, 1, 512, 512) dtype=float32_ref>,\n",
       " <tf.Variable 'MobilenetV1/Conv2d_10_pointwise/BatchNorm/moving_mean:0' shape=(512,) dtype=float32_ref>,\n",
       " <tf.Variable 'MobilenetV1/Conv2d_10_pointwise/BatchNorm/moving_variance:0' shape=(512,) dtype=float32_ref>,\n",
       " <tf.Variable 'MobilenetV1/Conv2d_10_pointwise/BatchNorm/beta:0' shape=(512,) dtype=float32_ref>,\n",
       " <tf.Variable 'MobilenetV1/Conv2d_10_pointwise/BatchNorm/gamma:0' shape=(512,) dtype=float32_ref>,\n",
       " <tf.Variable 'MobilenetV1/Conv2d_11_depthwise/depthwise_weights:0' shape=(3, 3, 512, 1) dtype=float32_ref>,\n",
       " <tf.Variable 'MobilenetV1/Conv2d_11_depthwise/BatchNorm/moving_mean:0' shape=(512,) dtype=float32_ref>,\n",
       " <tf.Variable 'MobilenetV1/Conv2d_11_depthwise/BatchNorm/moving_variance:0' shape=(512,) dtype=float32_ref>,\n",
       " <tf.Variable 'MobilenetV1/Conv2d_11_depthwise/BatchNorm/beta:0' shape=(512,) dtype=float32_ref>,\n",
       " <tf.Variable 'MobilenetV1/Conv2d_11_depthwise/BatchNorm/gamma:0' shape=(512,) dtype=float32_ref>,\n",
       " <tf.Variable 'MobilenetV1/Conv2d_11_pointwise/weights:0' shape=(1, 1, 512, 512) dtype=float32_ref>,\n",
       " <tf.Variable 'MobilenetV1/Conv2d_11_pointwise/BatchNorm/moving_mean:0' shape=(512,) dtype=float32_ref>,\n",
       " <tf.Variable 'MobilenetV1/Conv2d_11_pointwise/BatchNorm/moving_variance:0' shape=(512,) dtype=float32_ref>,\n",
       " <tf.Variable 'MobilenetV1/Conv2d_11_pointwise/BatchNorm/beta:0' shape=(512,) dtype=float32_ref>,\n",
       " <tf.Variable 'MobilenetV1/Conv2d_11_pointwise/BatchNorm/gamma:0' shape=(512,) dtype=float32_ref>,\n",
       " <tf.Variable 'MobilenetV1/Conv2d_12_depthwise/depthwise_weights:0' shape=(3, 3, 512, 1) dtype=float32_ref>,\n",
       " <tf.Variable 'MobilenetV1/Conv2d_12_depthwise/BatchNorm/moving_mean:0' shape=(512,) dtype=float32_ref>,\n",
       " <tf.Variable 'MobilenetV1/Conv2d_12_depthwise/BatchNorm/moving_variance:0' shape=(512,) dtype=float32_ref>,\n",
       " <tf.Variable 'MobilenetV1/Conv2d_12_depthwise/BatchNorm/beta:0' shape=(512,) dtype=float32_ref>,\n",
       " <tf.Variable 'MobilenetV1/Conv2d_12_depthwise/BatchNorm/gamma:0' shape=(512,) dtype=float32_ref>,\n",
       " <tf.Variable 'MobilenetV1/Conv2d_12_pointwise/weights:0' shape=(1, 1, 512, 1024) dtype=float32_ref>,\n",
       " <tf.Variable 'MobilenetV1/Conv2d_12_pointwise/BatchNorm/moving_mean:0' shape=(1024,) dtype=float32_ref>,\n",
       " <tf.Variable 'MobilenetV1/Conv2d_12_pointwise/BatchNorm/moving_variance:0' shape=(1024,) dtype=float32_ref>,\n",
       " <tf.Variable 'MobilenetV1/Conv2d_12_pointwise/BatchNorm/beta:0' shape=(1024,) dtype=float32_ref>,\n",
       " <tf.Variable 'MobilenetV1/Conv2d_12_pointwise/BatchNorm/gamma:0' shape=(1024,) dtype=float32_ref>,\n",
       " <tf.Variable 'MobilenetV1/Conv2d_13_depthwise/depthwise_weights:0' shape=(3, 3, 1024, 1) dtype=float32_ref>,\n",
       " <tf.Variable 'MobilenetV1/Conv2d_13_depthwise/BatchNorm/moving_mean:0' shape=(1024,) dtype=float32_ref>,\n",
       " <tf.Variable 'MobilenetV1/Conv2d_13_depthwise/BatchNorm/moving_variance:0' shape=(1024,) dtype=float32_ref>,\n",
       " <tf.Variable 'MobilenetV1/Conv2d_13_depthwise/BatchNorm/beta:0' shape=(1024,) dtype=float32_ref>,\n",
       " <tf.Variable 'MobilenetV1/Conv2d_13_depthwise/BatchNorm/gamma:0' shape=(1024,) dtype=float32_ref>,\n",
       " <tf.Variable 'MobilenetV1/Conv2d_13_pointwise/weights:0' shape=(1, 1, 1024, 1024) dtype=float32_ref>,\n",
       " <tf.Variable 'MobilenetV1/Conv2d_13_pointwise/BatchNorm/moving_mean:0' shape=(1024,) dtype=float32_ref>,\n",
       " <tf.Variable 'MobilenetV1/Conv2d_13_pointwise/BatchNorm/moving_variance:0' shape=(1024,) dtype=float32_ref>,\n",
       " <tf.Variable 'MobilenetV1/Conv2d_13_pointwise/BatchNorm/beta:0' shape=(1024,) dtype=float32_ref>,\n",
       " <tf.Variable 'MobilenetV1/Conv2d_13_pointwise/BatchNorm/gamma:0' shape=(1024,) dtype=float32_ref>,\n",
       " <tf.Variable 'MobilenetV1/Logits/Conv2d_1c_1x1/weights:0' shape=(1, 1, 1024, 1001) dtype=float32_ref>]"
      ]
     },
     "execution_count": 9,
     "metadata": {},
     "output_type": "execute_result"
    }
   ],
   "source": [
    "tf.global_variables()"
   ]
  },
  {
   "cell_type": "code",
   "execution_count": 10,
   "metadata": {},
   "outputs": [
    {
     "name": "stdout",
     "output_type": "stream",
     "text": [
      "(1.4771856, 2.425541)\n"
     ]
    }
   ],
   "source": [
    "out_array = sess.run(end_points['Conv2d_0'], feed_dict={inputs: np.load('input.npy')})\n",
    "print(np.mean(out_array), np.var(out_array))"
   ]
  },
  {
   "cell_type": "code",
   "execution_count": 6,
   "metadata": {
    "scrolled": true
   },
   "outputs": [],
   "source": [
    "out_array2 = np.load('output1.npy')"
   ]
  },
  {
   "cell_type": "code",
   "execution_count": 7,
   "metadata": {},
   "outputs": [
    {
     "data": {
      "text/plain": [
       "array([0.44394627, 0.58283985, 0.        , ..., 0.05387982, 0.00681409,\n",
       "       0.09681661], dtype=float32)"
      ]
     },
     "execution_count": 7,
     "metadata": {},
     "output_type": "execute_result"
    }
   ],
   "source": [
    "out_array2[np.where(np.abs(out_array2 - out_array) > 3)]"
   ]
  },
  {
   "cell_type": "code",
   "execution_count": 8,
   "metadata": {},
   "outputs": [
    {
     "data": {
      "text/plain": [
       "array([4.24391  , 4.4841866, 4.3365936, ..., 3.1318195, 4.9321027,\n",
       "       3.5205455], dtype=float32)"
      ]
     },
     "execution_count": 8,
     "metadata": {},
     "output_type": "execute_result"
    }
   ],
   "source": [
    "out_array[np.where(np.abs(out_array2 - out_array) > 3)]"
   ]
  }
 ],
 "metadata": {
  "kernelspec": {
   "display_name": "Python 2",
   "language": "python",
   "name": "python2"
  },
  "language_info": {
   "codemirror_mode": {
    "name": "ipython",
    "version": 2
   },
   "file_extension": ".py",
   "mimetype": "text/x-python",
   "name": "python",
   "nbconvert_exporter": "python",
   "pygments_lexer": "ipython2",
   "version": "2.7.11+"
  }
 },
 "nbformat": 4,
 "nbformat_minor": 2
}
