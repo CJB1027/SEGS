{
 "cells": [
  {
   "cell_type": "code",
   "execution_count": 1,
   "metadata": {},
   "outputs": [],
   "source": [
    "import os\n",
    "from backbones.mobilenet_v1_slim import *\n",
    "os.environ['CUDA_VISIBLE_DEVICES'] = '1'"
   ]
  },
  {
   "cell_type": "code",
   "execution_count": 2,
   "metadata": {},
   "outputs": [
    {
     "name": "stdout",
     "output_type": "stream",
     "text": [
      "INFO:tensorflow:Restoring parameters from /mnt/disk/jiabao/mobilenet_v1_1/mobilenet_v1_1.0_224.ckpt\n",
      "(0.16731615, 0.8567236)\n"
     ]
    }
   ],
   "source": [
    "sess = tf.Session()\n",
    "inputs = tf.placeholder(shape=[1, 224, 224, 3], dtype=tf.float32, name='inputs')\n",
    "with slim.arg_scope(mobilenet_v1_arg_scope(is_training=False)):\n",
    "    nets, end_points = mobilenet_v1(inputs)\n",
    "# sess.run(tf.global_variables_initializer())\n",
    "saver = tf.train.Saver()\n",
    "saver.restore(sess=sess, save_path='/mnt/disk/jiabao/mobilenet_v1_1/mobilenet_v1_1.0_224.ckpt')\n",
    "\n",
    "out_array = sess.run(nets, feed_dict={inputs: np.load('input.npy')})\n",
    "print(np.mean(out_array), np.var(out_array))\n",
    "np.savetxt(\"output_slim.txt\",out_array)"
   ]
  },
  {
   "cell_type": "code",
   "execution_count": 3,
   "metadata": {},
   "outputs": [
    {
     "name": "stdout",
     "output_type": "stream",
     "text": [
      "(1.4320741, 2.4193947)\n"
     ]
    }
   ],
   "source": [
    "out_array = sess.run(end_points['Conv2d_0'], feed_dict={inputs: np.load('input.npy')})\n",
    "print(np.mean(out_array), np.var(out_array))"
   ]
  },
  {
   "cell_type": "code",
   "execution_count": 4,
   "metadata": {},
   "outputs": [
    {
     "data": {
      "text/plain": [
       "136"
      ]
     },
     "execution_count": 4,
     "metadata": {},
     "output_type": "execute_result"
    }
   ],
   "source": [
    "len(tf.global_variables())"
   ]
  },
  {
   "cell_type": "code",
   "execution_count": 5,
   "metadata": {},
   "outputs": [],
   "source": [
    "np.save('output1.npy',out_array)"
   ]
  }
 ],
 "metadata": {
  "kernelspec": {
   "display_name": "Python 2",
   "language": "python",
   "name": "python2"
  },
  "language_info": {
   "codemirror_mode": {
    "name": "ipython",
    "version": 2
   },
   "file_extension": ".py",
   "mimetype": "text/x-python",
   "name": "python",
   "nbconvert_exporter": "python",
   "pygments_lexer": "ipython2",
   "version": "2.7.11+"
  }
 },
 "nbformat": 4,
 "nbformat_minor": 2
}
